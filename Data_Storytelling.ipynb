{
 "cells": [
  {
   "cell_type": "code",
   "execution_count": 1,
   "metadata": {},
   "outputs": [],
   "source": [
    "import pickle\n",
    "import pandas as pd\n",
    "import matplotlib.pyplot as plt\n",
    "plt.style.use('ggplot')  # sets up pretty plots\n",
    "%matplotlib inline\n",
    "pd.set_option('display.max_rows', 2000)\n",
    "pd.set_option('display.max_columns', 500)"
   ]
  },
  {
   "cell_type": "code",
   "execution_count": 2,
   "metadata": {},
   "outputs": [],
   "source": [
    "df = pd.read_pickle('clean_data.pkl')"
   ]
  },
  {
   "cell_type": "code",
   "execution_count": 3,
   "metadata": {},
   "outputs": [
    {
     "data": {
      "text/plain": [
       "Commercial                        768\n",
       "Government                        337\n",
       "Military                          257\n",
       "Civil                             128\n",
       "Government/Commercial             114\n",
       "Military/Commercial                69\n",
       "Military/Government                31\n",
       "Government/Civil                   25\n",
       "Military/Civil                      2\n",
       "Commercial/Government/Military      1\n",
       "Name: Users, dtype: int64"
      ]
     },
     "execution_count": 3,
     "metadata": {},
     "output_type": "execute_result"
    }
   ],
   "source": [
    "df['Users'].value_counts(dropna=False)"
   ]
  },
  {
   "cell_type": "code",
   "execution_count": 4,
   "metadata": {
    "scrolled": true
   },
   "outputs": [
    {
     "data": {
      "text/plain": [
       "USA                     780\n",
       "China                   203\n",
       "Russia                  139\n",
       "Multinational           115\n",
       "Japan                    65\n",
       "India                    50\n",
       "United Kingdom           44\n",
       "ESA                      38\n",
       "Canada                   33\n",
       "Germany                  26\n",
       "Luxembourg               18\n",
       "Spain                    13\n",
       "Brazil                   12\n",
       "France                   12\n",
       "Israel                   12\n",
       "Italy                    11\n",
       "Argentina                11\n",
       "South Korea              11\n",
       "Netherlands              11\n",
       "Saudi Arabia             11\n",
       "Turkey                    9\n",
       "Australia                 9\n",
       "Singapore                 8\n",
       "Norway                    8\n",
       "Indonesia                 8\n",
       "United Arab Emirates      7\n",
       "Thailand                  5\n",
       "Kazakhstan                5\n",
       "Malaysia                  4\n",
       "Mexico                    4\n",
       "Algeria                   4\n",
       "Nigeria                   4\n",
       "Vietnam                   3\n",
       "South Africa              3\n",
       "Denmark                   2\n",
       "Venezuela                 2\n",
       "Belarus                   2\n",
       "Switzerland               2\n",
       "Egypt                     2\n",
       "Chile                     2\n",
       "Taiwan                    2\n",
       "Sweden                    2\n",
       "Uruguay                   1\n",
       "Czech Republic            1\n",
       "Lithuania                 1\n",
       "Bolivia                   1\n",
       "Latvia                    1\n",
       "Mongolia                  1\n",
       "Bangladesh                1\n",
       "Peru                      1\n",
       "Iraq                      1\n",
       "Slovakia                  1\n",
       "Bulgaria                  1\n",
       "Iran                      1\n",
       "Laos                      1\n",
       "Austria                   1\n",
       "Ukraine                   1\n",
       "Azerbaijan                1\n",
       "Pakistan                  1\n",
       "Greece                    1\n",
       "Belgium                   1\n",
       "Finland                   1\n",
       "Name: CountryofOwner, dtype: int64"
      ]
     },
     "execution_count": 4,
     "metadata": {},
     "output_type": "execute_result"
    }
   ],
   "source": [
    "df['CountryofOwner'].value_counts(dropna=False)"
   ]
  },
  {
   "cell_type": "code",
   "execution_count": 5,
   "metadata": {
    "scrolled": true
   },
   "outputs": [
    {
     "data": {
      "text/plain": [
       "Communications              725\n",
       "Earth Observation           580\n",
       "Technology Development      179\n",
       "Navigation                  108\n",
       "Space Science                65\n",
       "Multipurpose                 31\n",
       "Earth Science                22\n",
       "Technology Demonstration     13\n",
       "Space Observation             9\n",
       "Name: Purpose, dtype: int64"
      ]
     },
     "execution_count": 5,
     "metadata": {},
     "output_type": "execute_result"
    }
   ],
   "source": [
    "df['Purpose'].value_counts(dropna=False)"
   ]
  },
  {
   "cell_type": "code",
   "execution_count": 6,
   "metadata": {},
   "outputs": [
    {
     "data": {
      "text/plain": [
       "Communications              725\n",
       "Earth Observation           580\n",
       "Technology Development      179\n",
       "Navigation                  108\n",
       "Space Science                65\n",
       "Multipurpose                 31\n",
       "Earth Science                22\n",
       "Technology Demonstration     13\n",
       "Space Observation             9\n",
       "Name: Purpose, dtype: int64"
      ]
     },
     "execution_count": 6,
     "metadata": {},
     "output_type": "execute_result"
    }
   ],
   "source": [
    "df['Purpose'].value_counts()"
   ]
  },
  {
   "cell_type": "code",
   "execution_count": 7,
   "metadata": {},
   "outputs": [
    {
     "data": {
      "text/html": [
       "<div>\n",
       "<style scoped>\n",
       "    .dataframe tbody tr th:only-of-type {\n",
       "        vertical-align: middle;\n",
       "    }\n",
       "\n",
       "    .dataframe tbody tr th {\n",
       "        vertical-align: top;\n",
       "    }\n",
       "\n",
       "    .dataframe thead th {\n",
       "        text-align: right;\n",
       "    }\n",
       "</style>\n",
       "<table border=\"1\" class=\"dataframe\">\n",
       "  <thead>\n",
       "    <tr style=\"text-align: right;\">\n",
       "      <th></th>\n",
       "      <th>Name</th>\n",
       "      <th>RegistryCountry</th>\n",
       "      <th>CountryofOwner</th>\n",
       "      <th>Operator/Owner</th>\n",
       "      <th>Users</th>\n",
       "      <th>Purpose</th>\n",
       "      <th>ClassofOrbit</th>\n",
       "      <th>TypeofOrbit</th>\n",
       "      <th>Longitude of GEO (degrees)</th>\n",
       "      <th>Perigee(km)</th>\n",
       "      <th>Apogee(km)</th>\n",
       "      <th>Eccentricity</th>\n",
       "      <th>Inclination(degrees)</th>\n",
       "      <th>Period(minutes)</th>\n",
       "      <th>LaunchMass(kg)</th>\n",
       "      <th>DryMass(kg)</th>\n",
       "      <th>Power(W)</th>\n",
       "      <th>DateofLaunch</th>\n",
       "      <th>ExpectedLifetime</th>\n",
       "      <th>Contractor</th>\n",
       "      <th>CountryofContractor</th>\n",
       "      <th>LaunchSite</th>\n",
       "      <th>LaunchVehicle</th>\n",
       "      <th>COSPAR#</th>\n",
       "      <th>NORAD#</th>\n",
       "    </tr>\n",
       "  </thead>\n",
       "  <tbody>\n",
       "    <tr>\n",
       "      <th>0</th>\n",
       "      <td>Aalto-1</td>\n",
       "      <td>NR (10/17)</td>\n",
       "      <td>Finland</td>\n",
       "      <td>University of Aalto</td>\n",
       "      <td>Civil</td>\n",
       "      <td>Technology Development</td>\n",
       "      <td>LEO</td>\n",
       "      <td>NaN</td>\n",
       "      <td>0.00</td>\n",
       "      <td>497</td>\n",
       "      <td>517</td>\n",
       "      <td>0.001454</td>\n",
       "      <td>97.45</td>\n",
       "      <td>94.7</td>\n",
       "      <td>4.5</td>\n",
       "      <td>NaN</td>\n",
       "      <td>4.5</td>\n",
       "      <td>2017-06-23</td>\n",
       "      <td>2 yrs.</td>\n",
       "      <td>University of Aalto</td>\n",
       "      <td>Finland</td>\n",
       "      <td>Satish Dhawan Space Centre</td>\n",
       "      <td>PSLV</td>\n",
       "      <td>2017-036L</td>\n",
       "      <td>42775</td>\n",
       "    </tr>\n",
       "    <tr>\n",
       "      <th>1</th>\n",
       "      <td>AAUSat-4</td>\n",
       "      <td>NR (12/16)</td>\n",
       "      <td>Denmark</td>\n",
       "      <td>University of Aalborg</td>\n",
       "      <td>Civil</td>\n",
       "      <td>Earth Observation</td>\n",
       "      <td>LEO</td>\n",
       "      <td>Sun-Synchronous</td>\n",
       "      <td>0.00</td>\n",
       "      <td>442</td>\n",
       "      <td>687</td>\n",
       "      <td>0.017665</td>\n",
       "      <td>98.20</td>\n",
       "      <td>95.9</td>\n",
       "      <td>1</td>\n",
       "      <td>NaN</td>\n",
       "      <td>NaN</td>\n",
       "      <td>2016-04-25</td>\n",
       "      <td>NaN</td>\n",
       "      <td>University of Aalborg</td>\n",
       "      <td>Denmark</td>\n",
       "      <td>Guiana Space Center</td>\n",
       "      <td>Soyuz 2.1a</td>\n",
       "      <td>2016-025E</td>\n",
       "      <td>41460</td>\n",
       "    </tr>\n",
       "    <tr>\n",
       "      <th>2</th>\n",
       "      <td>ABS-2 (Koreasat-8, ST-3)</td>\n",
       "      <td>NR</td>\n",
       "      <td>Multinational</td>\n",
       "      <td>Asia Broadcast Satellite Ltd.</td>\n",
       "      <td>Commercial</td>\n",
       "      <td>Communications</td>\n",
       "      <td>GEO</td>\n",
       "      <td>NaN</td>\n",
       "      <td>75.00</td>\n",
       "      <td>35778</td>\n",
       "      <td>35793</td>\n",
       "      <td>0.000178</td>\n",
       "      <td>0.08</td>\n",
       "      <td>1436.03</td>\n",
       "      <td>6330</td>\n",
       "      <td>NaN</td>\n",
       "      <td>16000</td>\n",
       "      <td>2014-02-06</td>\n",
       "      <td>15 yrs.</td>\n",
       "      <td>Space Systems/Loral</td>\n",
       "      <td>USA</td>\n",
       "      <td>Guiana Space Center</td>\n",
       "      <td>Ariane  5 ECA</td>\n",
       "      <td>2014-006A</td>\n",
       "      <td>39508</td>\n",
       "    </tr>\n",
       "    <tr>\n",
       "      <th>3</th>\n",
       "      <td>ABS-2A</td>\n",
       "      <td>NR (12/16)</td>\n",
       "      <td>Multinational</td>\n",
       "      <td>Asia Broadcast Satellite Ltd.</td>\n",
       "      <td>Commercial</td>\n",
       "      <td>Communications</td>\n",
       "      <td>GEO</td>\n",
       "      <td>NaN</td>\n",
       "      <td>-75.00</td>\n",
       "      <td>35700</td>\n",
       "      <td>35700</td>\n",
       "      <td>0.000000</td>\n",
       "      <td>0.00</td>\n",
       "      <td>1436.1</td>\n",
       "      <td>1800</td>\n",
       "      <td>NaN</td>\n",
       "      <td>NaN</td>\n",
       "      <td>2016-06-15</td>\n",
       "      <td>15 yrs.</td>\n",
       "      <td>Boeing Satellite Systems</td>\n",
       "      <td>USA</td>\n",
       "      <td>Cape Canaveral</td>\n",
       "      <td>Falcon 9</td>\n",
       "      <td>2016-038A</td>\n",
       "      <td>41588</td>\n",
       "    </tr>\n",
       "    <tr>\n",
       "      <th>4</th>\n",
       "      <td>ABS-3 (Agila 2, Mabuhay 1)</td>\n",
       "      <td>Philippines</td>\n",
       "      <td>Multinational</td>\n",
       "      <td>Asia Broadcast Satellite Ltd.</td>\n",
       "      <td>Commercial</td>\n",
       "      <td>Communications</td>\n",
       "      <td>GEO</td>\n",
       "      <td>NaN</td>\n",
       "      <td>146.06</td>\n",
       "      <td>35769</td>\n",
       "      <td>35802</td>\n",
       "      <td>0.000391</td>\n",
       "      <td>0.05</td>\n",
       "      <td>1436.07</td>\n",
       "      <td>3775</td>\n",
       "      <td>1800</td>\n",
       "      <td>9000</td>\n",
       "      <td>1997-08-19</td>\n",
       "      <td>15 yrs.</td>\n",
       "      <td>Space Systems/Loral</td>\n",
       "      <td>USA</td>\n",
       "      <td>Xichang Satellite Launch Center</td>\n",
       "      <td>Long March CZ3B</td>\n",
       "      <td>1997-042A</td>\n",
       "      <td>24901</td>\n",
       "    </tr>\n",
       "  </tbody>\n",
       "</table>\n",
       "</div>"
      ],
      "text/plain": [
       "                         Name RegistryCountry CountryofOwner  \\\n",
       "0                    Aalto-1       NR (10/17)        Finland   \n",
       "1                    AAUSat-4      NR (12/16)        Denmark   \n",
       "2    ABS-2 (Koreasat-8, ST-3)              NR  Multinational   \n",
       "3                      ABS-2A      NR (12/16)  Multinational   \n",
       "4  ABS-3 (Agila 2, Mabuhay 1)     Philippines  Multinational   \n",
       "\n",
       "                  Operator/Owner       Users                 Purpose  \\\n",
       "0            University of Aalto       Civil  Technology Development   \n",
       "1          University of Aalborg       Civil       Earth Observation   \n",
       "2  Asia Broadcast Satellite Ltd.  Commercial          Communications   \n",
       "3  Asia Broadcast Satellite Ltd.  Commercial          Communications   \n",
       "4  Asia Broadcast Satellite Ltd.  Commercial          Communications   \n",
       "\n",
       "  ClassofOrbit      TypeofOrbit  Longitude of GEO (degrees)  Perigee(km)  \\\n",
       "0          LEO              NaN                        0.00          497   \n",
       "1          LEO  Sun-Synchronous                        0.00          442   \n",
       "2          GEO              NaN                       75.00        35778   \n",
       "3          GEO              NaN                      -75.00        35700   \n",
       "4          GEO              NaN                      146.06        35769   \n",
       "\n",
       "   Apogee(km)  Eccentricity  Inclination(degrees) Period(minutes)  \\\n",
       "0         517      0.001454                 97.45            94.7   \n",
       "1         687      0.017665                 98.20            95.9   \n",
       "2       35793      0.000178                  0.08         1436.03   \n",
       "3       35700      0.000000                  0.00          1436.1   \n",
       "4       35802      0.000391                  0.05         1436.07   \n",
       "\n",
       "  LaunchMass(kg) DryMass(kg) Power(W) DateofLaunch ExpectedLifetime  \\\n",
       "0            4.5         NaN      4.5   2017-06-23           2 yrs.   \n",
       "1              1         NaN      NaN   2016-04-25              NaN   \n",
       "2           6330         NaN    16000   2014-02-06          15 yrs.   \n",
       "3           1800         NaN      NaN   2016-06-15          15 yrs.   \n",
       "4           3775        1800     9000   1997-08-19          15 yrs.   \n",
       "\n",
       "                 Contractor CountryofContractor  \\\n",
       "0       University of Aalto             Finland   \n",
       "1     University of Aalborg             Denmark   \n",
       "2       Space Systems/Loral                 USA   \n",
       "3  Boeing Satellite Systems                 USA   \n",
       "4       Space Systems/Loral                 USA   \n",
       "\n",
       "                        LaunchSite    LaunchVehicle    COSPAR#  NORAD#  \n",
       "0       Satish Dhawan Space Centre             PSLV  2017-036L   42775  \n",
       "1              Guiana Space Center       Soyuz 2.1a  2016-025E   41460  \n",
       "2              Guiana Space Center    Ariane  5 ECA  2014-006A   39508  \n",
       "3                   Cape Canaveral         Falcon 9  2016-038A   41588  \n",
       "4  Xichang Satellite Launch Center  Long March CZ3B  1997-042A   24901  "
      ]
     },
     "execution_count": 7,
     "metadata": {},
     "output_type": "execute_result"
    }
   ],
   "source": [
    "df.head()"
   ]
  },
  {
   "cell_type": "code",
   "execution_count": 8,
   "metadata": {},
   "outputs": [
    {
     "data": {
      "image/png": "[encoded data removed]",
      "text/plain": [
       "<Figure size 432x288 with 1 Axes>"
      ]
     },
     "metadata": {},
     "output_type": "display_data"
    }
   ],
   "source": [
    "df['Purpose'].value_counts().plot(kind='bar')\n",
    "plt.show()"
   ]
  },
  {
   "cell_type": "code",
   "execution_count": 9,
   "metadata": {},
   "outputs": [
    {
     "data": {
      "image/png": "[encoded data removed]",
      "text/plain": [
       "<Figure size 432x288 with 1 Axes>"
      ]
     },
     "metadata": {},
     "output_type": "display_data"
    }
   ],
   "source": [
    "df['Users'].value_counts().plot(kind='bar')\n",
    "plt.show()"
   ]
  },
  {
   "cell_type": "code",
   "execution_count": 10,
   "metadata": {},
   "outputs": [
    {
     "data": {
      "image/png": "[encoded data removed]",
      "text/plain": [
       "<Figure size 432x288 with 1 Axes>"
      ]
     },
     "metadata": {},
     "output_type": "display_data"
    }
   ],
   "source": [
    "df['CountryofOwner'].value_counts().plot(kind='bar')\n",
    "plt.show()"
   ]
  },
  {
   "cell_type": "code",
   "execution_count": 13,
   "metadata": {},
   "outputs": [],
   "source": [
    "countries = df['CountryofOwner'].value_counts()\n",
    "countries['Rest of world'] = 0"
   ]
  },
  {
   "cell_type": "code",
   "execution_count": 14,
   "metadata": {},
   "outputs": [],
   "source": [
    "for x in countries:\n",
    "    if x <= 11:\n",
    "        countries['Rest of world'] += x"
   ]
  },
  {
   "cell_type": "code",
   "execution_count": 15,
   "metadata": {
    "scrolled": true
   },
   "outputs": [
    {
     "data": {
      "text/plain": [
       "USA                     780\n",
       "China                   203\n",
       "Russia                  139\n",
       "Multinational           115\n",
       "Japan                    65\n",
       "India                    50\n",
       "United Kingdom           44\n",
       "ESA                      38\n",
       "Canada                   33\n",
       "Germany                  26\n",
       "Luxembourg               18\n",
       "Spain                    13\n",
       "Brazil                   12\n",
       "France                   12\n",
       "Israel                   12\n",
       "Italy                    11\n",
       "Argentina                11\n",
       "South Korea              11\n",
       "Netherlands              11\n",
       "Saudi Arabia             11\n",
       "Turkey                    9\n",
       "Australia                 9\n",
       "Singapore                 8\n",
       "Norway                    8\n",
       "Indonesia                 8\n",
       "United Arab Emirates      7\n",
       "Thailand                  5\n",
       "Kazakhstan                5\n",
       "Malaysia                  4\n",
       "Mexico                    4\n",
       "Algeria                   4\n",
       "Nigeria                   4\n",
       "Vietnam                   3\n",
       "South Africa              3\n",
       "Denmark                   2\n",
       "Venezuela                 2\n",
       "Belarus                   2\n",
       "Switzerland               2\n",
       "Egypt                     2\n",
       "Chile                     2\n",
       "Taiwan                    2\n",
       "Sweden                    2\n",
       "Uruguay                   1\n",
       "Czech Republic            1\n",
       "Lithuania                 1\n",
       "Bolivia                   1\n",
       "Latvia                    1\n",
       "Mongolia                  1\n",
       "Bangladesh                1\n",
       "Peru                      1\n",
       "Iraq                      1\n",
       "Slovakia                  1\n",
       "Bulgaria                  1\n",
       "Iran                      1\n",
       "Laos                      1\n",
       "Austria                   1\n",
       "Ukraine                   1\n",
       "Azerbaijan                1\n",
       "Pakistan                  1\n",
       "Greece                    1\n",
       "Belgium                   1\n",
       "Finland                   1\n",
       "Name: CountryofOwner, dtype: int64"
      ]
     },
     "execution_count": 15,
     "metadata": {},
     "output_type": "execute_result"
    }
   ],
   "source": [
    "df['CountryofOwner'].value_counts()"
   ]
  },
  {
   "cell_type": "code",
   "execution_count": 18,
   "metadata": {},
   "outputs": [],
   "source": [
    "drop_list = ['Netherlands','Italy','Saudi Arabia','Argentina','South Korea','Turkey', 'Australia','Norway','Indonesia','Singapore', 'United Arab Emirates','Kazakhstan', 'Thailand', 'Malaysia', 'Algeria', 'Nigeria', 'Mexico', 'Vietnam', 'South Africa', 'Switzerland', 'Venezuela', 'Taiwan', 'Sweden', 'Egypt', 'Chile', 'Belarus', 'Denmark', 'Czech Republic', 'Mongolia', 'Austria', 'Azerbaijan', 'Bangladesh', 'Slovakia', 'Lithuania', 'Finland', 'Pakistan', 'Iran', 'Iraq', 'Latvia', 'Belgium', 'Uruguay', 'Laos', 'Bulgaria', 'Bolivia', 'Greece', 'Ukraine','Peru']\n",
    "countries.drop(labels = drop_list, inplace = True)"
   ]
  },
  {
   "cell_type": "code",
   "execution_count": 19,
   "metadata": {},
   "outputs": [
    {
     "data": {
      "image/png": "[encoded data removed]",
      "text/plain": [
       "<Figure size 432x288 with 1 Axes>"
      ]
     },
     "metadata": {},
     "output_type": "display_data"
    }
   ],
   "source": [
    "countries.plot(kind='bar')\n",
    "plt.show()"
   ]
  },
  {
   "cell_type": "code",
   "execution_count": null,
   "metadata": {},
   "outputs": [],
   "source": []
  }
 ],
 "metadata": {
  "kernelspec": {
   "display_name": "Python 3",
   "language": "python",
   "name": "python3"
  },
  "language_info": {
   "codemirror_mode": {
    "name": "ipython",
    "version": 3
   },
   "file_extension": ".py",
   "mimetype": "text/x-python",
   "name": "python",
   "nbconvert_exporter": "python",
   "pygments_lexer": "ipython3",
   "version": "3.6.5"
  }
 },
 "nbformat": 4,
 "nbformat_minor": 2
}
